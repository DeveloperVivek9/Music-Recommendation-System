{
 "cells": [
  {
   "cell_type": "code",
   "execution_count": 1,
   "id": "b2f9d2b7-acf1-4630-b613-836627411e72",
   "metadata": {},
   "outputs": [],
   "source": [
    "from flask import Flask,request,render_template\n",
    "import pandas as pd\n",
    "import json\n",
    "import tensorflow.keras as keras\n",
    "import os\n",
    "import plotly\n",
    "import plotly.express as px\n",
    "from Genre_Prediction import CNN\n",
    "from Music_Recognizer import Music_Recognizer\n",
    "from Spotify import Spotify\n",
    "from Recommender import Recommender"
   ]
  },
  {
   "cell_type": "code",
   "execution_count": 2,
   "id": "acdae91e",
   "metadata": {},
   "outputs": [
    {
     "data": {
      "text/html": [
       "<style>.container { width:100% !important; }</style>"
      ],
      "text/plain": [
       "<IPython.core.display.HTML object>"
      ]
     },
     "metadata": {},
     "output_type": "display_data"
    }
   ],
   "source": [
    "from IPython.display import display, HTML\n",
    "display(HTML(\"<style>.container { width:100% !important; }</style>\"))"
   ]
  },
  {
   "cell_type": "code",
   "execution_count": 3,
   "id": "f0bc7e20",
   "metadata": {},
   "outputs": [],
   "source": [
    "def recommend(file_path=None,artist=None,title=None,required_features=['Danceability','Energy','Liveness','Tempo','Valence']):    \n",
    "    #Creating objects for the respective classes\n",
    "    c=CNN()\n",
    "    m=Music_Recognizer()\n",
    "    s=Spotify(SECRETS_PATH)\n",
    "    r=Recommender(DATABASE_PATH)\n",
    "   \n",
    "    if(file_path):\n",
    "        genre_dict=c.predict_genre(file_path,model)\n",
    "        if(genre_dict==None):\n",
    "            return render_template('Error_Unable_Extract_Features.html', filename=f.filename)\n",
    "\n",
    "        (artist,title)=m.recognize_song_from_mp3(file_path,\"best\")   \n",
    "        track_id=s.get_track_id(artist,title)\n",
    "    else:\n",
    "        track_id=s.get_track_id(artist,title)\n",
    "        genre_list=s.get_genre_list(track_id)\n",
    "        freq = lambda x: genre_list.count(x)\n",
    "        percent = lambda z: freq(z)/len(genre_list)\n",
    "        genre_prob_list=list(map(percent,set(genre_list)))\n",
    "        genre_dict=dict()\n",
    "        for index,genre in enumerate(set(genre_list)):\n",
    "            genre_dict[genre]=genre_prob_list[index]\n",
    "\n",
    "        l=['pop','hip hop','country','classical','jazz','blues','disco','reggae','rock','metal']\n",
    "        d=[x for x in l if x not in list(genre_dict.keys())]\n",
    "        index=0\n",
    "        while(len(genre_dict)<10):\n",
    "            genre_dict[d[index]]=0 \n",
    "            index+=1\n",
    "    print(genre_dict)\n",
    "    #genre=genre_probability_dict['Genre'][genre_probability_dict['Probability'].index(max(genre_probability_dict['Probability']))]\n",
    "    genre=max(zip(genre_dict.values(), genre_dict.keys()))[1]\n",
    "    df=pd.DataFrame(list(zip(genre_dict.keys(),genre_dict.values())),columns= ['Genre',\"Probability\"])\n",
    "    print(f\"We recognized the genre to be : {genre}\")  \n",
    "    if(track_id!=None):\n",
    "        present=r.check_id(track_id,None)\n",
    "    else:\n",
    "        present=False\n",
    "    #Getting features using spotify API\n",
    "    if(present==False):\n",
    "        features=s.get_features(track_id,required_features)\n",
    "        #pass object of spotify onto recommendations\n",
    "        #track_id parameter will be false\n",
    "        recommendations=r.recommend(features,genre,s,present,num_of_recommendations,measure)\n",
    "    #Getting features from database\n",
    "    else:\n",
    "        features=r.get_features(track_id,required_features)\n",
    "        #pass object of spotify onto recommendations\n",
    "        #passing track_id \n",
    "        recommendations=r.recommend(features,genre,s,track_id,num_of_recommendations,measure)\n",
    "    \n",
    "    color_discrete_sequence = ['#ec7c34']*len(df)\n",
    "    color_discrete_sequence[5] = '#609cd4'\n",
    "    fig = px.bar(df, x='Genre', y='Probability', color='Probability', color_discrete_sequence=color_discrete_sequence,barmode='group')\n",
    "    graphJSON = json.dumps(fig, cls=plotly.utils.PlotlyJSONEncoder) \n",
    "    return genre,recommendations,graphJSON"
   ]
  },
  {
   "cell_type": "code",
   "execution_count": 4,
   "id": "1cff50c3",
   "metadata": {},
   "outputs": [],
   "source": [
    "app = Flask(__name__)\n",
    "    \n",
    "@app.route('/')\n",
    "def search_upload():\n",
    "    return render_template(\"LP_search_or_upload.html\")\n",
    "\n",
    "@app.route(\"/search\")\n",
    "def search():\n",
    "    return render_template(\"Input_search.html\")\n",
    "\n",
    "@app.route(\"/upload\")\n",
    "def upload():\n",
    "    return render_template(\"Input_upload.html\")\n",
    "    \n",
    "@app.route('/upload-recommendation',methods=['POST'])\n",
    "def upload_recommendation():\n",
    "    f = request.files['file'] \n",
    "    if(f.filename==\"\"):\n",
    "        return render_template('Error_Not_Required_Audio.html', filename=f.filename)\n",
    "    required_features=request.form.getlist('Features')\n",
    "    print(required_features)\n",
    "    #samples,sample_rate=librosa.load()\n",
    "    file_path=FLASK_SAVE_DIRECTORY+f.filename\n",
    "    f.save(file_path) \n",
    "    if(os.path.splitext(file_path)[1].lower() not in ['.mp3','.wav']):\n",
    "        return render_template('Error_Not_Required_Audio.html', filename=f.filename)\n",
    "    genre,recommendations,graphJSON=recommend(file_path,None,None,required_features)\n",
    "    return render_template('Result_recommendation.html', filename=f.filename,recommendations=recommendations,genre=genre, graphJSON=graphJSON)\n",
    "\n",
    "@app.route('/search-recommendation',methods=['POST'])\n",
    "def search_recommendation():\n",
    "    artist = request.form.get('artist')\n",
    "    title= request.form.get('title')\n",
    "    song=artist+\" \"+title\n",
    "    required_features=request.form.getlist('Features')\n",
    "    print(required_features) \n",
    "    genre,recommendations,graphJSON=recommend(None,artist,title,required_features)\n",
    "    return render_template('Result_recommendation.html', filename=song,recommendations=recommendations,genre=genre, graphJSON=graphJSON)"
   ]
  },
  {
   "cell_type": "code",
   "execution_count": null,
   "id": "8ca863ef-0ac9-4744-9bb9-2b5bdfeb2729",
   "metadata": {},
   "outputs": [],
   "source": [
    "if __name__ == \"__main__\":\n",
    "    FLASK_SAVE_DIRECTORY=\"\"\n",
    "    MODEL_PATH=\"\"\n",
    "    SECRETS_PATH=\"\"\n",
    "    DATABASE_PATH=\"\"\n",
    "    genre_list=['Blues','Classical','Country','Disco','Hip-Hop','Jazz','Metal','Pop','Reggae','Rock']   \n",
    "    SAMPLE_RATE = 22050\n",
    "    TRACK_DURATION = 30\n",
    "    num_mfcc=13\n",
    "    n_fft=2048\n",
    "    hop_length=512\n",
    "    num_segments=10\n",
    "    search_full=True\n",
    "    num_of_recommendations=10\n",
    "    measure=\"euclidean\"\n",
    "    model = keras.models.load_model(MODEL_PATH)\n",
    "    app.run()"
   ]
  }
 ],
 "metadata": {
  "kernelspec": {
   "display_name": "MusicRecommendation",
   "language": "python",
   "name": "musicrecommendation"
  },
  "language_info": {
   "codemirror_mode": {
    "name": "ipython",
    "version": 3
   },
   "file_extension": ".py",
   "mimetype": "text/x-python",
   "name": "python",
   "nbconvert_exporter": "python",
   "pygments_lexer": "ipython3",
   "version": "3.7.11"
  }
 },
 "nbformat": 4,
 "nbformat_minor": 5
}
